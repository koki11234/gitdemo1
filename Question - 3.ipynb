{
 "cells": [
  {
   "cell_type": "markdown",
   "id": "01d73aee",
   "metadata": {},
   "source": [
    "**3. Find and display the largest number of a list without using built-in function max().**"
   ]
  },
  {
   "cell_type": "code",
   "execution_count": 1,
   "id": "38f8e9cc",
   "metadata": {},
   "outputs": [
    {
     "name": "stdout",
     "output_type": "stream",
     "text": [
      "The largest number is: 99\n"
     ]
    }
   ],
   "source": [
    "a=[1,6,8,9,22,3,55,88,43,66,78,99,34]\n",
    "\n",
    "a.sort(reverse=True)\n",
    "#print(a)\n",
    "print(\"The largest number is:\",a[0])"
   ]
  }
 ],
 "metadata": {
  "kernelspec": {
   "display_name": "Python 3 (ipykernel)",
   "language": "python",
   "name": "python3"
  },
  "language_info": {
   "codemirror_mode": {
    "name": "ipython",
    "version": 3
   },
   "file_extension": ".py",
   "mimetype": "text/x-python",
   "name": "python",
   "nbconvert_exporter": "python",
   "pygments_lexer": "ipython3",
   "version": "3.9.7"
  }
 },
 "nbformat": 4,
 "nbformat_minor": 5
}
