{
 "cells": [
  {
   "cell_type": "markdown",
   "id": "82e4c35b",
   "metadata": {},
   "source": [
    "**3.Write a program to count the number of students has computers a one subject from the data given below.\n",
    "students = [\n",
    " \t(\"John\", [\"Computers\", \"Physics\", “Maths”]), \n",
    "\t(\"Wasim\", [\"Maths\", \"Computers\", \"Statistics\"]), \n",
    "\t(\"Naresh\", [\"Computers\", \"Accounting\", \"Economics\"]), \n",
    "\t(\"SaiTeja\", [\"English\", \"Accounting\", \"Economics\", \"Law\"]), \n",
    "\t(\"Sravani\", [\"Sociology\", \"Economics\", \"Law\", \"Stats\", \"Music\"])\n",
    "\t]**"
   ]
  },
  {
   "cell_type": "code",
   "execution_count": 1,
   "id": "2d4b7008",
   "metadata": {},
   "outputs": [
    {
     "name": "stdout",
     "output_type": "stream",
     "text": [
      "Number of students has Computers as one of their subjects: 3\n"
     ]
    }
   ],
   "source": [
    "students = [ (\"John\", [\"Computers\", \"Physics\", \"Maths\"]), \n",
    "            (\"Wasim\", [\"Maths\", \"Computers\", \"Statistics\"]),\n",
    "            (\"Naresh\", [\"Computers\", \"Accounting\", \"Economics\"]),\n",
    "            (\"SaiTeja\", [\"English\", \"Accounting\", \"Economics\", \"Law\"]),\n",
    "            (\"Sravani\", [\"Sociology\", \"Economics\", \"Law\", \"Stats\", \"Music\"]) ]\n",
    "count = 0\n",
    "for s in students:\n",
    "    if \"Computers\" in s[1]:\n",
    "        count += 1\n",
    "print(\"Number of students has Computers as one of their subjects:\", count)\n",
    "\n",
    "    "
   ]
  }
 ],
 "metadata": {
  "kernelspec": {
   "display_name": "Python 3 (ipykernel)",
   "language": "python",
   "name": "python3"
  },
  "language_info": {
   "codemirror_mode": {
    "name": "ipython",
    "version": 3
   },
   "file_extension": ".py",
   "mimetype": "text/x-python",
   "name": "python",
   "nbconvert_exporter": "python",
   "pygments_lexer": "ipython3",
   "version": "3.9.7"
  }
 },
 "nbformat": 4,
 "nbformat_minor": 5
}
