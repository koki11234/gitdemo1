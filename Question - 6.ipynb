{
 "cells": [
  {
   "cell_type": "markdown",
   "id": "58c4fd8c",
   "metadata": {},
   "source": [
    "**6)Find the product of odd indexed numbers from the list.**"
   ]
  },
  {
   "cell_type": "code",
   "execution_count": 5,
   "id": "d4341fa3",
   "metadata": {},
   "outputs": [
    {
     "name": "stdout",
     "output_type": "stream",
     "text": [
      "product of odd indexed numbers: 48\n"
     ]
    }
   ],
   "source": [
    "a=[1,2,3,4,5,6]\n",
    "odd=1\n",
    "for i in range(len(a)):\n",
    "    if(i%2!=0):\n",
    "        odd=odd*a[i]\n",
    "print(\"product of odd indexed numbers:\",odd)\n"
   ]
  }
 ],
 "metadata": {
  "kernelspec": {
   "display_name": "Python 3 (ipykernel)",
   "language": "python",
   "name": "python3"
  },
  "language_info": {
   "codemirror_mode": {
    "name": "ipython",
    "version": 3
   },
   "file_extension": ".py",
   "mimetype": "text/x-python",
   "name": "python",
   "nbconvert_exporter": "python",
   "pygments_lexer": "ipython3",
   "version": "3.9.7"
  }
 },
 "nbformat": 4,
 "nbformat_minor": 5
}
