{
 "cells": [
  {
   "cell_type": "markdown",
   "id": "c95d9064",
   "metadata": {},
   "source": [
    "**6.Two lists are given below. Write a program to create a third list by picking an odd-index element from the first list and even index elements from second.\n",
    "\t# Sample Input\n",
    " \t\tlist1 = [3, 6, 9, 12, 15, 18, 21]\n",
    " \t\tlist2 = [4, 8, 12, 16, 20, 24, 28]\n",
    "\t# Expected Output\n",
    " \t\tlist3 = [6, 12, 18, 4, 12, 20, 28]**"
   ]
  },
  {
   "cell_type": "code",
   "execution_count": 5,
   "id": "34025d68",
   "metadata": {},
   "outputs": [
    {
     "name": "stdout",
     "output_type": "stream",
     "text": [
      "list3 = [6, 12, 18, 4, 12, 20, 28]\n"
     ]
    }
   ],
   "source": [
    "list1= [3,6,9,12,15,18,21]\n",
    "list2= [4,8,12,16,20,24,28]\n",
    "list3= []\n",
    "for i in range(len(list1)):\n",
    "     if i % 2 == 1:\n",
    "        list3.append(list1[i])\n",
    "for i in range(len(list2)):\n",
    "    if  i % 2 == 0:\n",
    "        list3.append(list2[i])\n",
    "    \n",
    "print(\"list3 =\",list3)"
   ]
  }
 ],
 "metadata": {
  "kernelspec": {
   "display_name": "Python 3 (ipykernel)",
   "language": "python",
   "name": "python3"
  },
  "language_info": {
   "codemirror_mode": {
    "name": "ipython",
    "version": 3
   },
   "file_extension": ".py",
   "mimetype": "text/x-python",
   "name": "python",
   "nbconvert_exporter": "python",
   "pygments_lexer": "ipython3",
   "version": "3.9.7"
  }
 },
 "nbformat": 4,
 "nbformat_minor": 5
}
