{
 "cells": [
  {
   "cell_type": "markdown",
   "id": "9ac377fd",
   "metadata": {},
   "source": [
    "**10) Write a program to filter out words from a list that don't start with the letter 's'. For example:\n",
    "seq = ['soup','dog','salad','cat','great']\n",
    "should be filtered down to: \n",
    "['soup','salad']**"
   ]
  },
  {
   "cell_type": "code",
   "execution_count": 1,
   "id": "24689bb5",
   "metadata": {},
   "outputs": [
    {
     "name": "stdout",
     "output_type": "stream",
     "text": [
      "soup\n",
      "salad\n"
     ]
    }
   ],
   "source": [
    "seq = ['soup','dog','salad','cat','great']\n",
    "for i in seq:\n",
    "    if i.startswith('s'):\n",
    "        print(i)"
   ]
  }
 ],
 "metadata": {
  "kernelspec": {
   "display_name": "Python 3 (ipykernel)",
   "language": "python",
   "name": "python3"
  },
  "language_info": {
   "codemirror_mode": {
    "name": "ipython",
    "version": 3
   },
   "file_extension": ".py",
   "mimetype": "text/x-python",
   "name": "python",
   "nbconvert_exporter": "python",
   "pygments_lexer": "ipython3",
   "version": "3.9.7"
  }
 },
 "nbformat": 4,
 "nbformat_minor": 5
}
