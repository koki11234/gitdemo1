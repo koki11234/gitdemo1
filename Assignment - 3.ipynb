{
 "cells": [
  {
   "cell_type": "markdown",
   "id": "671aaf5e",
   "metadata": {},
   "source": [
    "**3. Write a program that prompts the user to input number of calls and calculate the monthly telephone bills as per the following rule:\n",
    "Minimum Rs. 200 for up to 100 calls.\n",
    "Plus Rs. 0.60 per call for next 50 calls.\n",
    "Plus Rs. 0.50 per call for next 50 calls.\n",
    "Plus Rs. 0.40 per call for any call beyond 200 calls.**"
   ]
  },
  {
   "cell_type": "code",
   "execution_count": 3,
   "id": "62266510",
   "metadata": {},
   "outputs": [
    {
     "name": "stdout",
     "output_type": "stream",
     "text": [
      "Enter the number of calls: 350\n",
      "Your monthly telephone bill is Rs.  315.0\n"
     ]
    }
   ],
   "source": [
    "calls = int(input(\"Enter the number of calls: \"))\n",
    "\n",
    "# Calculate the monthly telephone bill based on the given rules\n",
    "if calls <= 100:\n",
    "    bill = 200\n",
    "elif calls <= 150:\n",
    "    bill = 200 + 0.6 * (calls - 100)\n",
    "elif calls <= 200:\n",
    "    bill = 200 + 0.6 * 50 + 0.5 * (calls - 150)\n",
    "else:\n",
    "    bill = 200 + 0.6 * 50 + 0.5 * 50 + 0.4 * (calls - 200)\n",
    "\n",
    "# Print the monthly telephone bill\n",
    "print(\"Your monthly telephone bill is Rs. \", bill)"
   ]
  },
  {
   "cell_type": "code",
   "execution_count": null,
   "id": "356fae93",
   "metadata": {},
   "outputs": [],
   "source": []
  }
 ],
 "metadata": {
  "kernelspec": {
   "display_name": "Python 3 (ipykernel)",
   "language": "python",
   "name": "python3"
  },
  "language_info": {
   "codemirror_mode": {
    "name": "ipython",
    "version": 3
   },
   "file_extension": ".py",
   "mimetype": "text/x-python",
   "name": "python",
   "nbconvert_exporter": "python",
   "pygments_lexer": "ipython3",
   "version": "3.9.7"
  }
 },
 "nbformat": 4,
 "nbformat_minor": 5
}
