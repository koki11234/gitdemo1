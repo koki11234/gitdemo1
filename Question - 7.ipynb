{
 "cells": [
  {
   "cell_type": "markdown",
   "id": "4e2d3b66",
   "metadata": {},
   "source": [
    "**7.Write a Python program to get the difference between the two lists.\n",
    "\t# Sample Input\n",
    " \t\tlist1 = [1, 2, 3, 4]\n",
    " \t\tlist2 = [1, 2]\n",
    "\t# Expected Output\n",
    " \t\t[3,4]**"
   ]
  },
  {
   "cell_type": "code",
   "execution_count": 4,
   "id": "193a8379",
   "metadata": {},
   "outputs": [
    {
     "name": "stdout",
     "output_type": "stream",
     "text": [
      "Enter the list1:1,2,3,4\n",
      "Enter the list2:1,2\n"
     ]
    },
    {
     "data": {
      "text/plain": [
       "['3', '4']"
      ]
     },
     "execution_count": 4,
     "metadata": {},
     "output_type": "execute_result"
    }
   ],
   "source": [
    "list1 = list(input(\"Enter the list1:\").split(','))\n",
    "list2 = list(input(\"Enter the list2:\").split(','))\n",
    "a=set(list1)\n",
    "b=set(list2)\n",
    "c=a.difference(b)\n",
    "list(c)\n"
   ]
  },
  {
   "cell_type": "code",
   "execution_count": null,
   "id": "42b209f1",
   "metadata": {},
   "outputs": [],
   "source": []
  }
 ],
 "metadata": {
  "kernelspec": {
   "display_name": "Python 3 (ipykernel)",
   "language": "python",
   "name": "python3"
  },
  "language_info": {
   "codemirror_mode": {
    "name": "ipython",
    "version": 3
   },
   "file_extension": ".py",
   "mimetype": "text/x-python",
   "name": "python",
   "nbconvert_exporter": "python",
   "pygments_lexer": "ipython3",
   "version": "3.9.7"
  }
 },
 "nbformat": 4,
 "nbformat_minor": 5
}
