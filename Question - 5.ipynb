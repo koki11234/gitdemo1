{
 "cells": [
  {
   "cell_type": "markdown",
   "id": "fdf188be",
   "metadata": {},
   "source": [
    "**5.Write a program to find Dissimilar Elements in Tuples.\n",
    "\t# Input\n",
    "\t\ttuple 1 = (3, 4, 5, 6)\n",
    "\t\ttuple 2 = (5, 7, 4, 10)\n",
    "\t# Expected Output\n",
    "\t\tDissimilar elements = (3, 6, 7, 10)**"
   ]
  },
  {
   "cell_type": "code",
   "execution_count": 3,
   "id": "6b2d0cf1",
   "metadata": {},
   "outputs": [
    {
     "data": {
      "text/plain": [
       "{3, 6, 7, 10}"
      ]
     },
     "execution_count": 3,
     "metadata": {},
     "output_type": "execute_result"
    }
   ],
   "source": [
    "tuple1= (3,4,5,6)\n",
    "tuple2= (5,7,4,10)\n",
    "\n",
    "a=set(tuple1)\n",
    "b=set(tuple2)\n",
    "\n",
    "c=a.difference(b)\n",
    "c\n",
    "\n",
    "d=b.difference(a)\n",
    "d\n",
    "\n",
    "e=c|d\n",
    "e\n",
    "\n",
    "\n",
    "\n",
    "\n"
   ]
  }
 ],
 "metadata": {
  "kernelspec": {
   "display_name": "Python 3 (ipykernel)",
   "language": "python",
   "name": "python3"
  },
  "language_info": {
   "codemirror_mode": {
    "name": "ipython",
    "version": 3
   },
   "file_extension": ".py",
   "mimetype": "text/x-python",
   "name": "python",
   "nbconvert_exporter": "python",
   "pygments_lexer": "ipython3",
   "version": "3.9.7"
  }
 },
 "nbformat": 4,
 "nbformat_minor": 5
}
