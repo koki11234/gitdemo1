{
 "cells": [
  {
   "cell_type": "markdown",
   "id": "b941c69c",
   "metadata": {},
   "source": [
    "**9.Write a program to add 7000 after 6000 in the following list.\n",
    "sample input\n",
    " list1 = [10, 20, [300, 400, [5000, 6000], 500], 30, 40]\n",
    "Expected output\n",
    " list1 = [10, 20, [300, 400, [5000, 6000, 7000], 500], 30, 40]\n",
    "Write a program to find maximum and the minimum value in a set.\n",
    "Input\n",
    "set1 = {5, 10, 3, 15, 2, 20}\n",
    "Expected output\n",
    "max = 20\n",
    "min = 2\n",
    "Write a program to remove all duplicates from a list using sets.\n",
    "Input\n",
    "[2, 3, 4, 2, 7, 3, 4, 8, 9, 1, 2, 3]\n",
    "Expected output\n",
    "{1, 2, 3, 4, 7, 8, 9}**"
   ]
  },
  {
   "cell_type": "code",
   "execution_count": 18,
   "id": "e73ebf91",
   "metadata": {},
   "outputs": [
    {
     "data": {
      "text/plain": [
       "[10, 20, [300, 400, [5000, 6000, 7000], 500], 30, 40]"
      ]
     },
     "execution_count": 18,
     "metadata": {},
     "output_type": "execute_result"
    }
   ],
   "source": [
    "#adding 7000 after 6000\n",
    "list1= [10, 20, [300, 400, [5000, 6000], 500], 30, 40] \n",
    "list1[2][2].append(7000)\n",
    "list1"
   ]
  },
  {
   "cell_type": "code",
   "execution_count": 25,
   "id": "9752996a",
   "metadata": {},
   "outputs": [
    {
     "data": {
      "text/plain": [
       "20"
      ]
     },
     "execution_count": 25,
     "metadata": {},
     "output_type": "execute_result"
    }
   ],
   "source": [
    "# max  values\n",
    "set1 = {5, 10, 3, 15,2,20}\n",
    "max(set1)\n",
    "    "
   ]
  },
  {
   "cell_type": "code",
   "execution_count": 26,
   "id": "157e0505",
   "metadata": {},
   "outputs": [
    {
     "data": {
      "text/plain": [
       "2"
      ]
     },
     "execution_count": 26,
     "metadata": {},
     "output_type": "execute_result"
    }
   ],
   "source": [
    "#min values\n",
    "set1 = {5, 10, 3, 15,2,20}\n",
    "min(set1)"
   ]
  },
  {
   "cell_type": "code",
   "execution_count": 27,
   "id": "94cc4225",
   "metadata": {},
   "outputs": [
    {
     "data": {
      "text/plain": [
       "{1, 2, 3, 4, 7, 8, 9}"
      ]
     },
     "execution_count": 27,
     "metadata": {},
     "output_type": "execute_result"
    }
   ],
   "source": [
    "#remove all duplicates\n",
    "a= [2, 3, 4, 2, 7, 3, 4, 8, 9, 1, 2, 3]\n",
    "b=set(a)\n",
    "b"
   ]
  }
 ],
 "metadata": {
  "kernelspec": {
   "display_name": "Python 3 (ipykernel)",
   "language": "python",
   "name": "python3"
  },
  "language_info": {
   "codemirror_mode": {
    "name": "ipython",
    "version": 3
   },
   "file_extension": ".py",
   "mimetype": "text/x-python",
   "name": "python",
   "nbconvert_exporter": "python",
   "pygments_lexer": "ipython3",
   "version": "3.9.7"
  }
 },
 "nbformat": 4,
 "nbformat_minor": 5
}
