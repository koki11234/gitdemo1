{
 "cells": [
  {
   "cell_type": "markdown",
   "id": "479ff9ed",
   "metadata": {},
   "source": [
    "**9)Given this nested list, use indexing to grab the word \"hello\"\n",
    "[1,2,[3,4],[5,[100,200,['hello']],23,11],1,7]**"
   ]
  },
  {
   "cell_type": "code",
   "execution_count": 1,
   "id": "611b4365",
   "metadata": {},
   "outputs": [
    {
     "name": "stdout",
     "output_type": "stream",
     "text": [
      "hello\n"
     ]
    }
   ],
   "source": [
    "a=[1,2,[3,4],[5,[100,200,['hello']],23,11],1,7]\n",
    "print(a[3][1][2][0])"
   ]
  }
 ],
 "metadata": {
  "kernelspec": {
   "display_name": "Python 3 (ipykernel)",
   "language": "python",
   "name": "python3"
  },
  "language_info": {
   "codemirror_mode": {
    "name": "ipython",
    "version": 3
   },
   "file_extension": ".py",
   "mimetype": "text/x-python",
   "name": "python",
   "nbconvert_exporter": "python",
   "pygments_lexer": "ipython3",
   "version": "3.9.7"
  }
 },
 "nbformat": 4,
 "nbformat_minor": 5
}
