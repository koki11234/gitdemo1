{
 "cells": [
  {
   "cell_type": "markdown",
   "id": "106a405b",
   "metadata": {},
   "source": [
    "**6. Get all the initials, sort them alphabetically, and put them in a space-separated string.\n",
    "Sample Input: ['Mercury', 'Venus', 'Earth', 'Mars', 'Jupiter', 'Saturn', 'Uranus', 'Neptune']\n",
    "Expected Output: 'E J M M N S U V'**"
   ]
  },
  {
   "cell_type": "code",
   "execution_count": 6,
   "id": "2c1babe6",
   "metadata": {
    "scrolled": true
   },
   "outputs": [
    {
     "name": "stdout",
     "output_type": "stream",
     "text": [
      "E J M M N S U V\n"
     ]
    }
   ],
   "source": [
    "words = ['Mercury', 'Venus', 'Earth', 'Mars', 'Jupiter', 'Saturn', 'Uranus', 'Neptune']\n",
    "\n",
    "initials = [word[0] for word in words]\n",
    "\n",
    "initials_sorted = sorted(initials)\n",
    "\n",
    "output = \" \".join(initials_sorted)\n",
    "\n",
    "print(output)  \n"
   ]
  }
 ],
 "metadata": {
  "kernelspec": {
   "display_name": "Python 3 (ipykernel)",
   "language": "python",
   "name": "python3"
  },
  "language_info": {
   "codemirror_mode": {
    "name": "ipython",
    "version": 3
   },
   "file_extension": ".py",
   "mimetype": "text/x-python",
   "name": "python",
   "nbconvert_exporter": "python",
   "pygments_lexer": "ipython3",
   "version": "3.9.7"
  }
 },
 "nbformat": 4,
 "nbformat_minor": 5
}
