{
 "cells": [
  {
   "cell_type": "markdown",
   "id": "2a3ff9ee",
   "metadata": {},
   "source": [
    "**2. Write a program that takes a single parameter, which is a string. Your function should return a list of all the indexes in the string that have capital letters. For example, if the input is \"HeLlO\", it should return the list [0, 2, 4].**"
   ]
  },
  {
   "cell_type": "code",
   "execution_count": 2,
   "id": "03c2ec24",
   "metadata": {},
   "outputs": [
    {
     "name": "stdout",
     "output_type": "stream",
     "text": [
      "Enter the string:HeLiO\n",
      "[0, 2, 4]\n"
     ]
    }
   ],
   "source": [
    "a=list(input(\"Enter the string:\"))\n",
    "b=[]\n",
    "for i in range(len(a)):\n",
    "    if a[i].isupper():\n",
    "        b.append(i)\n",
    "print(b)"
   ]
  }
 ],
 "metadata": {
  "kernelspec": {
   "display_name": "Python 3 (ipykernel)",
   "language": "python",
   "name": "python3"
  },
  "language_info": {
   "codemirror_mode": {
    "name": "ipython",
    "version": 3
   },
   "file_extension": ".py",
   "mimetype": "text/x-python",
   "name": "python",
   "nbconvert_exporter": "python",
   "pygments_lexer": "ipython3",
   "version": "3.9.7"
  }
 },
 "nbformat": 4,
 "nbformat_minor": 5
}
