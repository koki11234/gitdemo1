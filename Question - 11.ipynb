{
 "cells": [
  {
   "cell_type": "markdown",
   "id": "26b20e5e",
   "metadata": {},
   "source": [
    "**11)Write a program that counts the number of times a word “dog” occurs in a string “This dog runs faster than the other dog dude!”**"
   ]
  },
  {
   "cell_type": "code",
   "execution_count": 2,
   "id": "47bce190",
   "metadata": {},
   "outputs": [
    {
     "name": "stdout",
     "output_type": "stream",
     "text": [
      "The count of dog is: 2\n"
     ]
    }
   ],
   "source": [
    "a=\"This dog runs faster than the other dog dude!\"\n",
    "a1=a.count(\"dog\")\n",
    "print(\"The count of dog is:\", a1)\n"
   ]
  }
 ],
 "metadata": {
  "kernelspec": {
   "display_name": "Python 3 (ipykernel)",
   "language": "python",
   "name": "python3"
  },
  "language_info": {
   "codemirror_mode": {
    "name": "ipython",
    "version": 3
   },
   "file_extension": ".py",
   "mimetype": "text/x-python",
   "name": "python",
   "nbconvert_exporter": "python",
   "pygments_lexer": "ipython3",
   "version": "3.9.7"
  }
 },
 "nbformat": 4,
 "nbformat_minor": 5
}
