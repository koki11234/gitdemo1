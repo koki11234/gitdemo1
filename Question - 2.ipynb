{
 "cells": [
  {
   "cell_type": "markdown",
   "id": "6f83da7f",
   "metadata": {},
   "source": [
    "**2.Write a program to sort the following employ data (list of tuples) as per their salaries (each tuple represents employ ID, name, age and salary)?\n",
    "data = [\n",
    "\t(1234, 'Abishek' , 32, 35000),\n",
    "\t(4532, 'Barathi', 27, 29000), \n",
    "\t(3455, 'Charan', 31, 37000), \n",
    "\t(9863, 'Devi', 42, 52000), \n",
    "\t(4852, 'Eswar', 37, 56000), \n",
    "\t(6481, 'Fathima', 40, 65000), \n",
    "\t(2793, 'Ganesh', 28, 45000)\n",
    "\t]**"
   ]
  },
  {
   "cell_type": "code",
   "execution_count": 3,
   "id": "f3e9f6ac",
   "metadata": {},
   "outputs": [
    {
     "data": {
      "text/plain": [
       "[(6481, 'Fathima', 40, 65000),\n",
       " (4852, 'Eswar', 37, 56000),\n",
       " (9863, 'Devi', 42, 52000),\n",
       " (2793, 'Ganesh', 28, 45000),\n",
       " (3455, 'Charan', 31, 37000),\n",
       " (1234, 'Abishek', 32, 35000),\n",
       " (4532, 'Barathi', 27, 29000)]"
      ]
     },
     "execution_count": 3,
     "metadata": {},
     "output_type": "execute_result"
    }
   ],
   "source": [
    "data = [ (1234, 'Abishek' , 32, 35000),\n",
    "        (4532, 'Barathi', 27, 29000), \n",
    "        (3455, 'Charan', 31, 37000),\n",
    "        (9863, 'Devi', 42, 52000),              #Descending order\n",
    "        (4852, 'Eswar', 37, 56000),\n",
    "        (6481, 'Fathima', 40, 65000),\n",
    "        (2793, 'Ganesh', 28, 45000) ]\n",
    "\n",
    "data.sort(key=lambda data:data[3],reverse= True)\n",
    "data"
   ]
  },
  {
   "cell_type": "code",
   "execution_count": 4,
   "id": "eec46763",
   "metadata": {},
   "outputs": [
    {
     "data": {
      "text/plain": [
       "[(4532, 'Barathi', 27, 29000),\n",
       " (1234, 'Abishek', 32, 35000),\n",
       " (3455, 'Charan', 31, 37000),\n",
       " (2793, 'Ganesh', 28, 45000),\n",
       " (9863, 'Devi', 42, 52000),\n",
       " (4852, 'Eswar', 37, 56000),\n",
       " (6481, 'Fathima', 40, 65000)]"
      ]
     },
     "execution_count": 4,
     "metadata": {},
     "output_type": "execute_result"
    }
   ],
   "source": [
    "data = [ (1234, 'Abishek' , 32, 35000),\n",
    "        (4532, 'Barathi', 27, 29000), \n",
    "        (3455, 'Charan', 31, 37000),\n",
    "        (9863, 'Devi', 42, 52000),       # Ascending order\n",
    "        (4852, 'Eswar', 37, 56000),\n",
    "        (6481, 'Fathima', 40, 65000),\n",
    "        (2793, 'Ganesh', 28, 45000) ]\n",
    "\n",
    "data.sort(key=lambda data:data[3])\n",
    "data"
   ]
  }
 ],
 "metadata": {
  "kernelspec": {
   "display_name": "Python 3 (ipykernel)",
   "language": "python",
   "name": "python3"
  },
  "language_info": {
   "codemirror_mode": {
    "name": "ipython",
    "version": 3
   },
   "file_extension": ".py",
   "mimetype": "text/x-python",
   "name": "python",
   "nbconvert_exporter": "python",
   "pygments_lexer": "ipython3",
   "version": "3.9.7"
  }
 },
 "nbformat": 4,
 "nbformat_minor": 5
}
