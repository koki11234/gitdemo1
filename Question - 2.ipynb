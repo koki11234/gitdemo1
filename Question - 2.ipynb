{
 "cells": [
  {
   "cell_type": "markdown",
   "id": "4946b30f",
   "metadata": {},
   "source": [
    "**2) Write a program that accepts a list from the user. Your program should reverse the content of the list and print it. Do not use the reverse() method.**"
   ]
  },
  {
   "cell_type": "code",
   "execution_count": 1,
   "id": "c567cb4e",
   "metadata": {},
   "outputs": [
    {
     "name": "stdout",
     "output_type": "stream",
     "text": [
      "1 2 3 4 5 6 7 8 9\n",
      "['9', '8', '7', '6', '5', '4', '3', '2', '1']\n"
     ]
    }
   ],
   "source": [
    "a = list(input().split())\n",
    "print(a[::-1])"
   ]
  }
 ],
 "metadata": {
  "kernelspec": {
   "display_name": "Python 3 (ipykernel)",
   "language": "python",
   "name": "python3"
  },
  "language_info": {
   "codemirror_mode": {
    "name": "ipython",
    "version": 3
   },
   "file_extension": ".py",
   "mimetype": "text/x-python",
   "name": "python",
   "nbconvert_exporter": "python",
   "pygments_lexer": "ipython3",
   "version": "3.9.7"
  }
 },
 "nbformat": 4,
 "nbformat_minor": 5
}
