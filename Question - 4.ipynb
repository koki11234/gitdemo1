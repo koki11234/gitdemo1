{
 "cells": [
  {
   "cell_type": "markdown",
   "id": "6dcb6a13",
   "metadata": {},
   "source": [
    "**4)Write a program that rotates the element of a list so that the element at the first index moves to the second index, the element in the second index moves to the third index, etc., and the element in the last index moves to the first index.**"
   ]
  },
  {
   "cell_type": "code",
   "execution_count": 1,
   "id": "33cd9b01",
   "metadata": {},
   "outputs": [
    {
     "name": "stdout",
     "output_type": "stream",
     "text": [
      "1 6 9 10 5 7\n",
      "['7', '1', '6', '9', '10', '5']\n"
     ]
    }
   ],
   "source": [
    "a=list(input().split())\n",
    "a1=a[-1:]+a[:-1]\n",
    "print(a1)"
   ]
  }
 ],
 "metadata": {
  "kernelspec": {
   "display_name": "Python 3 (ipykernel)",
   "language": "python",
   "name": "python3"
  },
  "language_info": {
   "codemirror_mode": {
    "name": "ipython",
    "version": 3
   },
   "file_extension": ".py",
   "mimetype": "text/x-python",
   "name": "python",
   "nbconvert_exporter": "python",
   "pygments_lexer": "ipython3",
   "version": "3.9.7"
  }
 },
 "nbformat": 4,
 "nbformat_minor": 5
}
