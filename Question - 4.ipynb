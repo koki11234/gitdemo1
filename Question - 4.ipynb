{
 "cells": [
  {
   "cell_type": "markdown",
   "id": "c8286913",
   "metadata": {},
   "source": [
    "**4.Write a program to count the number of even and odd numbers from a tuple of numbers.\n",
    "\t# Input\n",
    "\t\ttuple1 = (1, 2, 3, 4, 5, 6, 7, 8, 9)\n",
    "\t# Expected Output:\n",
    "\t\tNumber of even numbers: 5\n",
    "\t\tNumber of odd numbers: 4**"
   ]
  },
  {
   "cell_type": "code",
   "execution_count": 18,
   "id": "385f79fa",
   "metadata": {},
   "outputs": [
    {
     "name": "stdout",
     "output_type": "stream",
     "text": [
      "even numbers: 4\n",
      "odd numbers: 5\n"
     ]
    }
   ],
   "source": [
    "tuple1=1,2,3,4,5,6,7,8,9\n",
    "for i in tuple1:\n",
    "    if i % 2 == 0:\n",
    "        even+=1\n",
    "    else:\n",
    "        odd+=1\n",
    "print(\"even numbers:\",even)\n",
    "print(\"odd numbers:\",odd)"
   ]
  },
  {
   "cell_type": "code",
   "execution_count": null,
   "id": "19957142",
   "metadata": {},
   "outputs": [],
   "source": []
  }
 ],
 "metadata": {
  "kernelspec": {
   "display_name": "Python 3 (ipykernel)",
   "language": "python",
   "name": "python3"
  },
  "language_info": {
   "codemirror_mode": {
    "name": "ipython",
    "version": 3
   },
   "file_extension": ".py",
   "mimetype": "text/x-python",
   "name": "python",
   "nbconvert_exporter": "python",
   "pygments_lexer": "ipython3",
   "version": "3.9.7"
  }
 },
 "nbformat": 4,
 "nbformat_minor": 5
}
