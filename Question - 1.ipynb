{
 "cells": [
  {
   "cell_type": "markdown",
   "id": "2b8d4547",
   "metadata": {},
   "source": [
    "**1. Write a program that accepts a list from the user and print the alternate element of the list.**"
   ]
  },
  {
   "cell_type": "code",
   "execution_count": 2,
   "id": "e56ee5c9",
   "metadata": {},
   "outputs": [
    {
     "name": "stdout",
     "output_type": "stream",
     "text": [
      "1 2 3 4 5 6 7 8 9\n",
      "['1', '3', '5', '7', '9']\n"
     ]
    }
   ],
   "source": [
    "a = list(input().split())\n",
    "print(a[::2])"
   ]
  }
 ],
 "metadata": {
  "kernelspec": {
   "display_name": "Python 3 (ipykernel)",
   "language": "python",
   "name": "python3"
  },
  "language_info": {
   "codemirror_mode": {
    "name": "ipython",
    "version": 3
   },
   "file_extension": ".py",
   "mimetype": "text/x-python",
   "name": "python",
   "nbconvert_exporter": "python",
   "pygments_lexer": "ipython3",
   "version": "3.9.7"
  }
 },
 "nbformat": 4,
 "nbformat_minor": 5
}
