{
 "cells": [
  {
   "cell_type": "markdown",
   "id": "4a4965e0",
   "metadata": {},
   "source": [
    "**1.Write a program to remove duplicates from tuple.**"
   ]
  },
  {
   "cell_type": "code",
   "execution_count": 24,
   "id": "5412db9b",
   "metadata": {},
   "outputs": [
    {
     "name": "stdout",
     "output_type": "stream",
     "text": [
      "enter the tuple:1,2,3,4,7,8,9,4,5,6,2,3,4\n"
     ]
    },
    {
     "data": {
      "text/plain": [
       "('3', '5', '8', '1', '6', '9', '2', '4', '7')"
      ]
     },
     "execution_count": 24,
     "metadata": {},
     "output_type": "execute_result"
    }
   ],
   "source": [
    "a=(input(\"enter the tuple:\").split(\",\"))\n",
    "tuple(set(a))"
   ]
  }
 ],
 "metadata": {
  "kernelspec": {
   "display_name": "Python 3 (ipykernel)",
   "language": "python",
   "name": "python3"
  },
  "language_info": {
   "codemirror_mode": {
    "name": "ipython",
    "version": 3
   },
   "file_extension": ".py",
   "mimetype": "text/x-python",
   "name": "python",
   "nbconvert_exporter": "python",
   "pygments_lexer": "ipython3",
   "version": "3.9.7"
  }
 },
 "nbformat": 4,
 "nbformat_minor": 5
}
