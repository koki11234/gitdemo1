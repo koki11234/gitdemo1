{
 "cells": [
  {
   "cell_type": "markdown",
   "id": "c8490128",
   "metadata": {},
   "source": [
    "**4. Write a program to create a list of tuples where each tuple contains a string and the length of the string.**"
   ]
  },
  {
   "cell_type": "code",
   "execution_count": 1,
   "id": "cebdc970",
   "metadata": {},
   "outputs": [
    {
     "name": "stdout",
     "output_type": "stream",
     "text": [
      "Enter the no.:5\n",
      "Enter the word:Kokila\n",
      "Enter the word:Aparna\n",
      "Enter the word:Gayathri\n",
      "Enter the word:Padma\n",
      "Enter the word:Govindhu\n",
      "[('Kokila', 6), ('Aparna', 6), ('Gayathri', 8), ('Padma', 5), ('Govindhu', 8)]\n"
     ]
    }
   ],
   "source": [
    "list_tuple=[]\n",
    "a = int(input(\"Enter the no.:\"))\n",
    "for i in range(a):\n",
    "    word = input(\"Enter the word:\")\n",
    "    list_tuple.append((word,len(word)))\n",
    "print(list_tuple)"
   ]
  }
 ],
 "metadata": {
  "kernelspec": {
   "display_name": "Python 3 (ipykernel)",
   "language": "python",
   "name": "python3"
  },
  "language_info": {
   "codemirror_mode": {
    "name": "ipython",
    "version": 3
   },
   "file_extension": ".py",
   "mimetype": "text/x-python",
   "name": "python",
   "nbconvert_exporter": "python",
   "pygments_lexer": "ipython3",
   "version": "3.9.7"
  }
 },
 "nbformat": 4,
 "nbformat_minor": 5
}
