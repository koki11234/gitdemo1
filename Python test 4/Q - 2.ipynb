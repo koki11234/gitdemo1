{
 "cells": [
  {
   "cell_type": "markdown",
   "id": "56964587",
   "metadata": {},
   "source": [
    "**2. Write a program to iterate over a list of tuples and print out the first element of each tuple.**"
   ]
  },
  {
   "cell_type": "code",
   "execution_count": 2,
   "id": "34e446e2",
   "metadata": {},
   "outputs": [
    {
     "name": "stdout",
     "output_type": "stream",
     "text": [
      "Enter the number:2\n",
      "Enter the word:Aparna\n",
      "Enter the num:25\n",
      "Enter the word:Gayathri\n",
      "Enter the num:26\n",
      "[('Aparna', 25), ('Gayathri', 26)]\n",
      "Aparna\n",
      "Gayathri\n"
     ]
    }
   ],
   "source": [
    "list_tuple=[]\n",
    "a = int(input(\"Enter the number:\"))\n",
    "for i in range(a):\n",
    "    word=input(\"Enter the word:\")\n",
    "    num=int(input(\"Enter the num:\"))\n",
    "    list_tuple.append((word,num))\n",
    "print(list_tuple)\n",
    "for x in list_tuple:\n",
    "    print(x[0])"
   ]
  }
 ],
 "metadata": {
  "kernelspec": {
   "display_name": "Python 3 (ipykernel)",
   "language": "python",
   "name": "python3"
  },
  "language_info": {
   "codemirror_mode": {
    "name": "ipython",
    "version": 3
   },
   "file_extension": ".py",
   "mimetype": "text/x-python",
   "name": "python",
   "nbconvert_exporter": "python",
   "pygments_lexer": "ipython3",
   "version": "3.9.7"
  }
 },
 "nbformat": 4,
 "nbformat_minor": 5
}
