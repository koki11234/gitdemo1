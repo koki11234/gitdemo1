{
 "cells": [
  {
   "cell_type": "markdown",
   "id": "65b71833",
   "metadata": {},
   "source": [
    "**5. Create an employee database with fields as emp_id, emp_name, emp_salary, emp_phone,(assign the id starting from 1001)**"
   ]
  },
  {
   "cell_type": "code",
   "execution_count": 5,
   "id": "04511268",
   "metadata": {},
   "outputs": [
    {
     "name": "stdout",
     "output_type": "stream",
     "text": [
      "Enter the no.of records:3\n",
      "Enter the id:1001\n",
      "Enter the name:kokila\n",
      "Enter the salary:23000\n",
      "Enter the phonenumber:8555929782\n",
      "Enter the id:1002\n",
      "Enter the name:aparna\n",
      "Enter the salary:56000\n",
      "Enter the phonenumber:9989527978\n",
      "Enter the id:1003\n",
      "Enter the name:gayathri\n",
      "Enter the salary:233000\n",
      "Enter the phonenumber:9989527878\n",
      "[(1001, 'kokila', 23000, 8555929782), (1002, 'aparna', 56000, 9989527978), (1003, 'gayathri', 233000, 9989527878)]\n"
     ]
    }
   ],
   "source": [
    "employee_database=[]\n",
    "a=int(input(\"Enter the no.of records:\"))\n",
    "for i in range(1001,1001+a):\n",
    "    emp_id=int(input(\"Enter the id:\"))\n",
    "    emp_name=input(\"Enter the name:\")\n",
    "    emp_salary=int(input(\"Enter the salary:\"))\n",
    "    emp_phonenumber=int(input(\"Enter the phonenumber:\"))\n",
    "    records=(emp_id,emp_name,emp_salary,emp_phonenumber)\n",
    "    employee_database.append(records)\n",
    "print(employee_database)"
   ]
  },
  {
   "cell_type": "code",
   "execution_count": null,
   "id": "f2df3971",
   "metadata": {},
   "outputs": [],
   "source": []
  }
 ],
 "metadata": {
  "kernelspec": {
   "display_name": "Python 3 (ipykernel)",
   "language": "python",
   "name": "python3"
  },
  "language_info": {
   "codemirror_mode": {
    "name": "ipython",
    "version": 3
   },
   "file_extension": ".py",
   "mimetype": "text/x-python",
   "name": "python",
   "nbconvert_exporter": "python",
   "pygments_lexer": "ipython3",
   "version": "3.9.7"
  }
 },
 "nbformat": 4,
 "nbformat_minor": 5
}
