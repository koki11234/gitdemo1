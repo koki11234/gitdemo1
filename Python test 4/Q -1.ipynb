{
 "cells": [
  {
   "cell_type": "markdown",
   "id": "6ade13a7",
   "metadata": {},
   "source": [
    "**1. Create a list of tuples where each tuple contains a string and an integer. Print out the list.**"
   ]
  },
  {
   "cell_type": "code",
   "execution_count": 3,
   "id": "f3de0568",
   "metadata": {},
   "outputs": [
    {
     "name": "stdout",
     "output_type": "stream",
     "text": [
      "Enter the number:2\n",
      "Enter the word:Aparna\n",
      "Enter the num:23\n",
      "Enter the word:gayathri\n",
      "Enter the num:26\n",
      "[('Aparna', 23), ('gayathri', 26)]\n"
     ]
    }
   ],
   "source": [
    "list_tuple=[]\n",
    "a = int(input(\"Enter the number:\"))\n",
    "for i in range(a):\n",
    "    word=input(\"Enter the word:\")\n",
    "    num=int(input(\"Enter the num:\"))\n",
    "    list_tuple.append((word,num))\n",
    "print(list_tuple)"
   ]
  },
  {
   "cell_type": "code",
   "execution_count": null,
   "id": "682017d3",
   "metadata": {},
   "outputs": [],
   "source": []
  }
 ],
 "metadata": {
  "kernelspec": {
   "display_name": "Python 3 (ipykernel)",
   "language": "python",
   "name": "python3"
  },
  "language_info": {
   "codemirror_mode": {
    "name": "ipython",
    "version": 3
   },
   "file_extension": ".py",
   "mimetype": "text/x-python",
   "name": "python",
   "nbconvert_exporter": "python",
   "pygments_lexer": "ipython3",
   "version": "3.9.7"
  }
 },
 "nbformat": 4,
 "nbformat_minor": 5
}
