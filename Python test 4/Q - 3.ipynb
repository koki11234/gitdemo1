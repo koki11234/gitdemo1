{
 "cells": [
  {
   "cell_type": "markdown",
   "id": "858512d3",
   "metadata": {},
   "source": [
    "**3. Write a program to remove all tuples from a list where the second element of the tuple is even.**"
   ]
  },
  {
   "cell_type": "code",
   "execution_count": 3,
   "id": "eafc893e",
   "metadata": {},
   "outputs": [
    {
     "name": "stdout",
     "output_type": "stream",
     "text": [
      "Enter the number:4\n",
      "Enter the word:Aparna\n",
      "Enter the num:25\n",
      "Enter the word:Gayathri\n",
      "Enter the num:26\n",
      "Enter the word:Kokila\n",
      "Enter the num:23\n",
      "Enter the word:Padma\n",
      "Enter the num:43\n",
      "[('Aparna', 25), ('Gayathri', 26), ('Kokila', 23), ('Padma', 43)]\n",
      "[('Aparna', 25), ('Kokila', 23), ('Padma', 43)]\n"
     ]
    }
   ],
   "source": [
    "list_tuple=[]\n",
    "a = int(input(\"Enter the number:\"))\n",
    "for i in range(a):\n",
    "    word=input(\"Enter the word:\")\n",
    "    num=int(input(\"Enter the num:\"))\n",
    "    list_tuple.append((word,num))\n",
    "print(list_tuple)\n",
    "a=[]\n",
    "for b in list_tuple:\n",
    "    if b[1]%2!=0:\n",
    "        a.append(b)\n",
    "print(a)"
   ]
  }
 ],
 "metadata": {
  "kernelspec": {
   "display_name": "Python 3 (ipykernel)",
   "language": "python",
   "name": "python3"
  },
  "language_info": {
   "codemirror_mode": {
    "name": "ipython",
    "version": 3
   },
   "file_extension": ".py",
   "mimetype": "text/x-python",
   "name": "python",
   "nbconvert_exporter": "python",
   "pygments_lexer": "ipython3",
   "version": "3.9.7"
  }
 },
 "nbformat": 4,
 "nbformat_minor": 5
}
