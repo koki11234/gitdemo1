{
 "cells": [
  {
   "cell_type": "markdown",
   "id": "b0e92cae",
   "metadata": {},
   "source": [
    "**8.Write a program to print a new list containing squares of each element in the following list.\n",
    "sample input\n",
    " list1 = [3, 7, 11, 12, 17, 21]\n",
    " sample output\n",
    " list2 = [9, 49, 121, 144, 289, 441]**"
   ]
  },
  {
   "cell_type": "code",
   "execution_count": 19,
   "id": "df2d6b9a",
   "metadata": {},
   "outputs": [
    {
     "name": "stdout",
     "output_type": "stream",
     "text": [
      "[9, 49, 121, 144, 289, 441]\n"
     ]
    }
   ],
   "source": [
    "a=[3,7,11,12,17,21]\n",
    "b=[]\n",
    "for i in a:\n",
    "    c=i**2\n",
    "    b.append(c)\n",
    "print(b)\n",
    "    "
   ]
  }
 ],
 "metadata": {
  "kernelspec": {
   "display_name": "Python 3 (ipykernel)",
   "language": "python",
   "name": "python3"
  },
  "language_info": {
   "codemirror_mode": {
    "name": "ipython",
    "version": 3
   },
   "file_extension": ".py",
   "mimetype": "text/x-python",
   "name": "python",
   "nbconvert_exporter": "python",
   "pygments_lexer": "ipython3",
   "version": "3.9.7"
  }
 },
 "nbformat": 4,
 "nbformat_minor": 5
}
