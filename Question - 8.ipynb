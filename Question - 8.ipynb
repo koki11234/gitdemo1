{
 "cells": [
  {
   "cell_type": "markdown",
   "id": "772a6bd4",
   "metadata": {},
   "source": [
    "**8)Write a program that accepts a list from the user and print the list after removing all elements which are divided by 3.**"
   ]
  },
  {
   "cell_type": "code",
   "execution_count": 1,
   "id": "e243d281",
   "metadata": {},
   "outputs": [
    {
     "name": "stdout",
     "output_type": "stream",
     "text": [
      "[23, 24, 67, 92]\n"
     ]
    }
   ],
   "source": [
    "a = [23, 45, 24, 67, 92, 45]\n",
    "\n",
    "for index, value in enumerate(a):\n",
    "    if(value % 3 == 0):\n",
    "        a.remove(value)\n",
    "print(a)"
   ]
  }
 ],
 "metadata": {
  "kernelspec": {
   "display_name": "Python 3 (ipykernel)",
   "language": "python",
   "name": "python3"
  },
  "language_info": {
   "codemirror_mode": {
    "name": "ipython",
    "version": 3
   },
   "file_extension": ".py",
   "mimetype": "text/x-python",
   "name": "python",
   "nbconvert_exporter": "python",
   "pygments_lexer": "ipython3",
   "version": "3.9.7"
  }
 },
 "nbformat": 4,
 "nbformat_minor": 5
}
