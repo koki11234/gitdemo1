{
 "cells": [
  {
   "cell_type": "markdown",
   "id": "5121fc69",
   "metadata": {},
   "source": [
    "**5. Write a program that display following output:\n",
    "SHIFT\n",
    "HIFTS\n",
    "IFTSH\n",
    "FTSHI\n",
    "TSHIF\n",
    "SHIFT**"
   ]
  },
  {
   "cell_type": "code",
   "execution_count": 4,
   "id": "a8721d21",
   "metadata": {},
   "outputs": [
    {
     "name": "stdout",
     "output_type": "stream",
     "text": [
      "SHIFT\n",
      "HIFTS\n",
      "IFTSH\n",
      "FTSHI\n",
      "TSHIF\n",
      "SHIFT\n"
     ]
    }
   ],
   "source": [
    "word = \"SHIFT\"\n",
    "\n",
    "for i in range(len(word)):\n",
    "    shifted_word = word[i:] + word[:i]\n",
    "    print(shifted_word)\n",
    "print(word)"
   ]
  }
 ],
 "metadata": {
  "kernelspec": {
   "display_name": "Python 3 (ipykernel)",
   "language": "python",
   "name": "python3"
  },
  "language_info": {
   "codemirror_mode": {
    "name": "ipython",
    "version": 3
   },
   "file_extension": ".py",
   "mimetype": "text/x-python",
   "name": "python",
   "nbconvert_exporter": "python",
   "pygments_lexer": "ipython3",
   "version": "3.9.7"
  }
 },
 "nbformat": 4,
 "nbformat_minor": 5
}
