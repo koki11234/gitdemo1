{
 "cells": [
  {
   "cell_type": "markdown",
   "id": "f306881a",
   "metadata": {},
   "source": [
    "**1. A store charges Rs.12 per item if you buy less than 10 items. If you buy between 10 and 99 items, the cost is Rs.10 per item. If you buy 100 or more items, the cost is Rs.7 per item. Write a program that asks the user how many items they are buying and prints the total cost.**"
   ]
  },
  {
   "cell_type": "code",
   "execution_count": 2,
   "id": "10a4b43f",
   "metadata": {},
   "outputs": [
    {
     "name": "stdout",
     "output_type": "stream",
     "text": [
      "Enter the number of items you are buying: 8\n",
      "The total cost is Rs. 96\n"
     ]
    }
   ],
   "source": [
    "items = int(input(\"Enter the number of items you are buying: \"))\n",
    "\n",
    "if items < 10:\n",
    "    total_cost = items * 12\n",
    "elif items < 100:\n",
    "    total_cost = items * 10\n",
    "else:\n",
    "    total_cost = items * 7\n",
    "\n",
    "print(\"The total cost is Rs.\", total_cost)"
   ]
  }
 ],
 "metadata": {
  "kernelspec": {
   "display_name": "Python 3 (ipykernel)",
   "language": "python",
   "name": "python3"
  },
  "language_info": {
   "codemirror_mode": {
    "name": "ipython",
    "version": 3
   },
   "file_extension": ".py",
   "mimetype": "text/x-python",
   "name": "python",
   "nbconvert_exporter": "python",
   "pygments_lexer": "ipython3",
   "version": "3.9.7"
  }
 },
 "nbformat": 4,
 "nbformat_minor": 5
}
