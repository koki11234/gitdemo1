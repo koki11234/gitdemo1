{
 "cells": [
  {
   "cell_type": "markdown",
   "id": "c8e4d2b4",
   "metadata": {},
   "source": [
    "**4. John has a hard time keeping his budget. Write a program to help him analyze his spendings. You are given a list with John's spendings for each month. Go through the list, and count the number of times...\n",
    "a. the spendings were low (< 1000.0)\n",
    "b. the spendings were normal (between 1000.0 and 2500.0 inclusive)\n",
    "c. the spendings were high (> 2500.0)\n",
    "Then, print the following to the output:\n",
    "Numbers of months with low spendings: {}, normal spendings: {}, high spendings: {}.\n",
    "Let spendings = [1346.0, 987.50, 1734.40, 2567.0, 3271.45, 2500.0, 2130.0, 2510.30, 2987.34, 3120.50, 4069.78, 1000.0]**\n"
   ]
  },
  {
   "cell_type": "code",
   "execution_count": 4,
   "id": "992e3e92",
   "metadata": {},
   "outputs": [
    {
     "name": "stdout",
     "output_type": "stream",
     "text": [
      "Numbers of months with low spendings:1, normal spendings:5, high spendings:6 \n"
     ]
    }
   ],
   "source": [
    "spendings = [1346.0, 987.50, 1734.40, 2567.0, 3271.45, 2500.0, 2130.0, 2510.30, 2987.34, 3120.50, 4069.78, 1000.0]\n",
    "\n",
    "low_count = 0\n",
    "normal_count = 0\n",
    "high_count = 0\n",
    "\n",
    "for spending in spendings:\n",
    "    if spending < 1000.0:\n",
    "        low_count += 1\n",
    "    elif spending >= 1000.0 and spending <= 2500.0:\n",
    "        normal_count += 1\n",
    "    else:\n",
    "        high_count += 1\n",
    "\n",
    "print(\"Numbers of months with low spendings:{}, normal spendings:{}, high spendings:{} \".format(low_count, normal_count, high_count))"
   ]
  }
 ],
 "metadata": {
  "kernelspec": {
   "display_name": "Python 3 (ipykernel)",
   "language": "python",
   "name": "python3"
  },
  "language_info": {
   "codemirror_mode": {
    "name": "ipython",
    "version": 3
   },
   "file_extension": ".py",
   "mimetype": "text/x-python",
   "name": "python",
   "nbconvert_exporter": "python",
   "pygments_lexer": "ipython3",
   "version": "3.9.7"
  }
 },
 "nbformat": 4,
 "nbformat_minor": 5
}
