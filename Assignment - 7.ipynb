{
 "cells": [
  {
   "cell_type": "markdown",
   "id": "9713ded9",
   "metadata": {},
   "source": [
    "**7. Write a method in python to display the elements of list thrice if it is a number and display the element terminated with ‘#’ if it is not a number.\n",
    "For example, if the content of list is [‘41’,‘DHRUVA’,‘GURU’, ‘13’,‘ZARA’]\n",
    "The output should be\n",
    "414141\n",
    "DHRUVA#\n",
    "GURU#\n",
    "131313\n",
    "ZARA#**"
   ]
  },
  {
   "cell_type": "code",
   "execution_count": 4,
   "id": "956fcda1",
   "metadata": {},
   "outputs": [
    {
     "name": "stdout",
     "output_type": "stream",
     "text": [
      "414141\n",
      "DHRUVA#\n",
      "GURU#\n",
      "131313\n",
      "ZARA#\n"
     ]
    }
   ],
   "source": [
    "def display_list(lst):\n",
    "    for elem in lst:\n",
    "        if elem.isdigit():\n",
    "            print(elem * 3, end='')\n",
    "        else:\n",
    "            print(elem + '#', end='')\n",
    "        print()\n",
    "lst = ['41','DHRUVA','GURU', '13','ZARA']\n",
    "display_list(lst)"
   ]
  },
  {
   "cell_type": "markdown",
   "id": "84436ef3",
   "metadata": {},
   "source": []
  }
 ],
 "metadata": {
  "kernelspec": {
   "display_name": "Python 3 (ipykernel)",
   "language": "python",
   "name": "python3"
  },
  "language_info": {
   "codemirror_mode": {
    "name": "ipython",
    "version": 3
   },
   "file_extension": ".py",
   "mimetype": "text/x-python",
   "name": "python",
   "nbconvert_exporter": "python",
   "pygments_lexer": "ipython3",
   "version": "3.9.7"
  }
 },
 "nbformat": 4,
 "nbformat_minor": 5
}
